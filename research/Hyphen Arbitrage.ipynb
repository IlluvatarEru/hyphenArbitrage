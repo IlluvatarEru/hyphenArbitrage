{
 "cells": [
  {
   "cell_type": "code",
   "execution_count": 1,
   "id": "311c380d",
   "metadata": {},
   "outputs": [],
   "source": [
    "import os\n",
    "import sys\n",
    "import pandas as pd\n",
    "import matplotlib.pyplot as plt\n",
    "\n",
    "# to import the files in path\n",
    "module_path = os.path.abspath(os.path.join('..'))\n",
    "if module_path not in sys.path:\n",
    "    sys.path.append(module_path)\n",
    "from src.arbitrage import check_arbitrage_opportunities\n",
    "from src.hyphen_liquidity_pools import compute_transfer_fee"
   ]
  },
  {
   "cell_type": "markdown",
   "id": "663597fd",
   "metadata": {},
   "source": [
    "Let's define the following:\n",
    "- $a$ the amount that we deposit and want to transfer\n",
    "- $r(x)$ the reward received from the incentive pool for depositingan amount  $x$\n",
    "- $g$ the gas fees paid on chain (does not depend on the amount deposited/transferred)\n",
    "- $f(x)$ the transfer fees (both for LP and IP) for transfering an amount $x$\n",
    "\n",
    "Then the amount received on the toChain is given by:\n",
    "\n",
    "$$output = a+r - f(a) - g$$"
   ]
  },
  {
   "cell_type": "code",
   "execution_count": 2,
   "id": "91f7aa26",
   "metadata": {},
   "outputs": [
    {
     "name": "stdout",
     "output_type": "stream",
     "text": [
      "Arbitrage detected for ETH on Ethereum: \n",
      "    - Profit=$ 0.0038 \n",
      "    - amount_in= 0.0076 ETH ~$ 10.0\n"
     ]
    },
    {
     "data": {
      "text/plain": [
       "(0.003751356868119887,\n",
       " 0,\n",
       " 'Ethereum',\n",
       " '0xEeeeeEeeeEeEeeEeEeEeeEEEeeeeEeeeeeeeEEeE')"
      ]
     },
     "execution_count": 2,
     "metadata": {},
     "output_type": "execute_result"
    }
   ],
   "source": [
    "check_arbitrage_opportunities()"
   ]
  },
  {
   "cell_type": "markdown",
   "id": "2ba74068",
   "metadata": {},
   "source": [
    "Making sure we get the same curve fee as describeded in Biconomy's documentation"
   ]
  },
  {
   "cell_type": "code",
   "execution_count": 2,
   "id": "56b1fad0",
   "metadata": {},
   "outputs": [
    {
     "data": {
      "text/plain": [
       "[<matplotlib.lines.Line2D at 0x259e398d8e0>]"
      ]
     },
     "execution_count": 2,
     "metadata": {},
     "output_type": "execute_result"
    },
    {
     "data": {
      "image/png": "[encoded data removed]",
      "text/plain": [
       "<Figure size 432x288 with 1 Axes>"
      ]
     },
     "metadata": {
      "needs_background": "light"
     },
     "output_type": "display_data"
    }
   ],
   "source": [
    "fees=[]\n",
    "lr=[]\n",
    "for amount in range(0,3000000):\n",
    "    f = compute_transfer_fee(amount, 3000000,1500000,0.1,0.001,excess_state_transfer_fee=excess_state_transfer_fee,depth=2)\n",
    "    fees.append(f)\n",
    "    lr.append(3000000-amount)\n",
    "plt.plot(lr[::-1], fees[::-1])"
   ]
  },
  {
   "cell_type": "code",
   "execution_count": 11,
   "id": "b3c84d0d",
   "metadata": {},
   "outputs": [
    {
     "data": {
      "text/plain": [
       "True"
      ]
     },
     "execution_count": 11,
     "metadata": {},
     "output_type": "execute_result"
    }
   ],
   "source": [
    "# expect true\n",
    "fees.index(0.001)==1500000"
   ]
  },
  {
   "cell_type": "code",
   "execution_count": 1,
   "id": "43570138",
   "metadata": {},
   "outputs": [
    {
     "ename": "NameError",
     "evalue": "name 'fees' is not defined",
     "output_type": "error",
     "traceback": [
      "\u001b[1;31m---------------------------------------------------------------------------\u001b[0m",
      "\u001b[1;31mNameError\u001b[0m                                 Traceback (most recent call last)",
      "\u001b[1;32m~\\AppData\\Local\\Temp/ipykernel_16152/3357876210.py\u001b[0m in \u001b[0;36m<module>\u001b[1;34m\u001b[0m\n\u001b[0;32m      1\u001b[0m \u001b[1;31m# expect true\u001b[0m\u001b[1;33m\u001b[0m\u001b[1;33m\u001b[0m\u001b[0m\n\u001b[1;32m----> 2\u001b[1;33m \u001b[0mmax\u001b[0m\u001b[1;33m(\u001b[0m\u001b[0mfees\u001b[0m\u001b[1;33m)\u001b[0m\u001b[1;33m<=\u001b[0m\u001b[1;36m0.1\u001b[0m\u001b[1;33m\u001b[0m\u001b[1;33m\u001b[0m\u001b[0m\n\u001b[0m",
      "\u001b[1;31mNameError\u001b[0m: name 'fees' is not defined"
     ]
    }
   ],
   "source": [
    "# expect true\n",
    "max(fees)<=0.1"
   ]
  },
  {
   "cell_type": "markdown",
   "id": "a2381a7f",
   "metadata": {},
   "source": [
    "## Show unbalances"
   ]
  },
  {
   "cell_type": "code",
   "execution_count": 2,
   "id": "a59e01e6",
   "metadata": {},
   "outputs": [
    {
     "data": {
      "text/plain": [
       "10000000000000000000"
      ]
     },
     "execution_count": 2,
     "metadata": {},
     "output_type": "execute_result"
    }
   ],
   "source": [
    "int(10e18)"
   ]
  },
  {
   "cell_type": "code",
   "execution_count": 1,
   "id": "b4814d11",
   "metadata": {},
   "outputs": [
    {
     "name": "stdout",
     "output_type": "stream",
     "text": [
      "amount 1e+20\n",
      "liquidity 425458615119556910852\n",
      "equilibrium_liquidity 51393000000000000000\n",
      "max_fee 50000000\n",
      "equilibrium_fee 7500000\n",
      "excess_state_transfer_fee 4500000\n",
      "reward 6.185599986981248e+16\n",
      "transfer_fee 45000000000000000.00000000000000000000\n",
      "amount_received 1.0001672040234141e+20\n",
      "true_gas 135597528398000.0\n",
      "true_transfer_fee 0.045\n",
      "true_reward 0.06185599986981248\n",
      "true_profit 1.6720402341412864e+16\n",
      "true_profit -  0.0\n"
     ]
    }
   ],
   "source": [
    "import os\n",
    "import sys\n",
    "import pandas as pd\n",
    "import matplotlib.pyplot as plt\n",
    "\n",
    "# to import the files in path\n",
    "module_path = os.path.abspath(os.path.join('..'))\n",
    "if module_path not in sys.path:\n",
    "    sys.path.append(module_path)\n",
    "from src.hyphen_liquidity_pools import *\n",
    "from src.hyphen_rpc import *\n",
    "from src.read import *\n",
    "from src.arbitrage import *\n",
    "liquidity_pools = read_liquidity_pools()\n",
    "supported_assets = read_supported_assets()\n",
    "chain_ids = read_chain_ids()\n",
    "assets = supported_assets['Asset'].tolist()\n",
    "asset_prices = get_prices(assets)\n",
    "rpcs = get_rpcs(liquidity_pools)\n",
    "asset_symbol = 'ETH'\n",
    "amount=100e18\n",
    "\n",
    "supported_asset = supported_assets.loc[supported_assets['Asset'] == asset_symbol]\n",
    "\n",
    "\n",
    "blockchain_from = 'Ethereum'\n",
    "api_from = rpcs[blockchain_from]\n",
    "blockchain_to = 'BSC'\n",
    "api_to = rpcs[blockchain_to]\n",
    "asset_price = asset_prices[asset_symbol]\n",
    "\n",
    "asset_from = supported_asset.loc[supported_asset['Blockchain'] == blockchain_from, 'Address'].values[0]\n",
    "asset_to = supported_asset.loc[supported_asset['Blockchain'] == blockchain_to, 'Address'].values[0]\n",
    "\n",
    "# blockchain-from data\n",
    "equilibrium_liquidity_from = api_from.get_equilibrium_liquidity(asset_from)\n",
    "liquidity_from = api_from.get_current_liquidity(asset_from)\n",
    "incentive_pool = api_from.get_rewards(asset_from)\n",
    "tokens_info_from = api_from.get_tokens_info(asset_from)\n",
    "excess_state_transfer_fee_from = api_from.get_excess_state_transfer_fee(asset_from)\n",
    "chain_id_from = chain_ids[blockchain_from]\n",
    "\n",
    "# blockchain-to data\n",
    "equilibrium_liquidity_to = api_to.get_equilibrium_liquidity(asset_to)\n",
    "liquidity_to = api_to.get_current_liquidity(asset_to)\n",
    "tokens_info_to = api_to.get_tokens_info(asset_to)\n",
    "excess_state_transfer_fee_to = api_to.get_excess_state_transfer_fee(asset_to)\n",
    "chain_id_to = chain_ids[blockchain_to]\n",
    "\n",
    "max_fee = tokens_info_to['maxFee']\n",
    "equilibrium_fee=tokens_info_to['equilibriumFee']\n",
    "hypen_rpc = HyphenRpcApi(chain_id_from, chain_id_to, asset_from, amount)\n",
    "true_gas = hypen_rpc.get_gas_fee()*1e18\n",
    "true_transfer_fee = hypen_rpc.get_transfer_fee()\n",
    "true_reward = hypen_rpc.get_reward()\n",
    "true_profit = hypen_rpc.get_profit()\n",
    "profit = compute_profit(amount, incentive_pool,\n",
    "                                            liquidity_from, equilibrium_liquidity_from,\n",
    "                                            liquidity_to, equilibrium_liquidity_to,\n",
    "                                            gas_fee=true_gas,\n",
    "                                            max_fee=tokens_info_to['maxFee'],\n",
    "                                            equilibrium_fee=tokens_info_to['equilibriumFee'],\n",
    "                                            excess_state_transfer_fee=excess_state_transfer_fee_to)\n",
    "profit\n",
    "print(\"true_gas\",true_gas)\n",
    "print(\"true_transfer_fee\",true_transfer_fee)\n",
    "print(\"true_reward\",true_reward)\n",
    "print(\"true_profit\",true_profit)\n",
    "print(\"true_profit - \",true_profit - profit)\n",
    "\n"
   ]
  },
  {
   "cell_type": "code",
   "execution_count": 5,
   "id": "0360f9f3",
   "metadata": {},
   "outputs": [
    {
     "data": {
      "text/plain": [
       "1.5789001427091456e+16"
      ]
     },
     "execution_count": 5,
     "metadata": {},
     "output_type": "execute_result"
    }
   ],
   "source": [
    "profit"
   ]
  },
  {
   "cell_type": "code",
   "execution_count": 3,
   "id": "7de7489e",
   "metadata": {
    "scrolled": true
   },
   "outputs": [
    {
     "name": "stdout",
     "output_type": "stream",
     "text": [
      "0.000135672148899\n",
      "0.000135672148899\n",
      "0.000135672148899\n",
      "0.000135781870549\n",
      "0.000135781870549\n",
      "0.000135781870549\n",
      "0.000135781870549\n",
      "0.000135781870549\n",
      "0.000135781870549\n",
      "0.000135781870549\n",
      "0.000135781870549\n",
      "0.000135781870549\n",
      "0.000135781870549\n",
      "0.000135781870549\n",
      "0.000135781870549\n",
      "0.000135781870549\n",
      "0.000135781870549\n",
      "0.000135781870549\n",
      "0.000135781870549\n",
      "0.000135781870549\n",
      "0.000135781870549\n",
      "0.000135781870549\n",
      "0.000135781870549\n",
      "0.000135781870549\n",
      "0.000135781870549\n",
      "0.000135781870549\n",
      "0.000135781870549\n",
      "0.000135781870549\n",
      "0.000135781870549\n",
      "0.000135781870549\n",
      "0.000135781870549\n",
      "0.000135781870549\n",
      "0.000135781870549\n",
      "0.000135781870549\n",
      "0.000135781870549\n",
      "0.000135781870549\n",
      "0.000135781870549\n",
      "0.000135781870549\n",
      "0.000135781870549\n",
      "0.000135781870549\n",
      "0.000135781870549\n",
      "0.000135781870549\n",
      "0.000135781870549\n",
      "0.000135781870549\n",
      "0.000135781870549\n",
      "0.000135781870549\n",
      "0.000135781870549\n",
      "0.000135781870549\n",
      "0.000135781870549\n",
      "0.000135820979183\n",
      "0.000135820979183\n",
      "0.000135820979183\n",
      "0.000135820979183\n",
      "0.000135820979183\n",
      "0.000135820979183\n",
      "0.000135820979183\n",
      "0.000135820979183\n",
      "0.000135820979183\n",
      "0.000135820979183\n",
      "0.000135820979183\n",
      "0.000135820979183\n",
      "0.000135820979183\n",
      "0.000135820979183\n",
      "0.000135820979183\n",
      "0.000135820979183\n",
      "0.000135820979183\n",
      "0.000135820979183\n",
      "0.000135820979183\n",
      "0.000135820979183\n",
      "0.000135820979183\n",
      "0.000135820979183\n",
      "0.000135820979183\n",
      "0.000135820979183\n",
      "0.000135820979183\n",
      "0.000135820979183\n",
      "0.000135820979183\n",
      "0.000135820979183\n",
      "0.000135820979183\n",
      "0.000135820979183\n",
      "0.000135820979183\n",
      "0.000135820979183\n",
      "0.000135820979183\n",
      "0.000135820979183\n",
      "0.000135820979183\n",
      "0.000135820979183\n",
      "0.000135820979183\n",
      "0.000135820979183\n",
      "0.000135820979183\n",
      "0.000135820979183\n",
      "0.000135820979183\n",
      "0.000135820979183\n",
      "0.000135820979183\n",
      "0.000135820979183\n",
      "0.000135820979183\n",
      "0.000135820979183\n",
      "0.000135820979183\n",
      "0.000135820979183\n",
      "0.000135820979183\n",
      "0.000135820979183\n",
      "0.000135820979183\n"
     ]
    }
   ],
   "source": [
    "for amount in [i*1e18 for i in range(100)]:\n",
    "    hypen_rpc.set_amount(amount)\n",
    "    print(hypen_rpc.get_gas_fee())"
   ]
  },
  {
   "cell_type": "code",
   "execution_count": 30,
   "id": "35f4520d",
   "metadata": {},
   "outputs": [
    {
     "data": {
      "text/plain": [
       "'0.000134337595815000'"
      ]
     },
     "execution_count": 30,
     "metadata": {},
     "output_type": "execute_result"
    }
   ],
   "source": [
    "import requests\n",
    "fromChainId=1\n",
    "toChainId=56\n",
    "\n",
    "url=\"https://hyphen-v2-api.biconomy.io/api/v1/data/transferFee?fromChainId=\"+str(fromChainId)+\"&toChainId=\"+str(toChainId)+\"&amount=\"+str(int(amount))+\"&tokenAddress=\"+asset_from\n",
    "x = requests.get(url)\n",
    "r = x.json()\n",
    "r['gasFee']"
   ]
  },
  {
   "cell_type": "code",
   "execution_count": 9,
   "id": "9a1f0fe0",
   "metadata": {},
   "outputs": [
    {
     "data": {
      "text/plain": [
       "135156.35084499998"
      ]
     },
     "execution_count": 9,
     "metadata": {},
     "output_type": "execute_result"
    }
   ],
   "source": [
    "gwei = 16\n",
    "def gwei_to_wei(gwei):\n",
    "    return gwei*1000000000\n",
    "def wei_to_gwei(wei):\n",
    "    return wei/1000000000\n",
    "\n",
    "wei_to_gwei(0.000135156350845000*1e18)"
   ]
  },
  {
   "cell_type": "code",
   "execution_count": 22,
   "id": "9049fa85",
   "metadata": {},
   "outputs": [
    {
     "data": {
      "text/plain": [
       "5381.084901786257"
      ]
     },
     "execution_count": 22,
     "metadata": {},
     "output_type": "execute_result"
    }
   ],
   "source": [
    "0.000135156350845000*1e18/25116933353"
   ]
  },
  {
   "cell_type": "code",
   "execution_count": 23,
   "id": "ea3dcf2c",
   "metadata": {},
   "outputs": [
    {
     "data": {
      "text/plain": [
       "80271"
      ]
     },
     "execution_count": 23,
     "metadata": {},
     "output_type": "execute_result"
    }
   ],
   "source": [
    "gas"
   ]
  },
  {
   "cell_type": "code",
   "execution_count": 19,
   "id": "c783d531",
   "metadata": {},
   "outputs": [
    {
     "data": {
      "text/plain": [
       "0.0020161613571786628"
      ]
     },
     "execution_count": 19,
     "metadata": {},
     "output_type": "execute_result"
    }
   ],
   "source": [
    "gas*25116933353/1000000000/1000000000"
   ]
  },
  {
   "cell_type": "code",
   "execution_count": 3,
   "id": "43542d3a",
   "metadata": {},
   "outputs": [
    {
     "data": {
      "text/plain": [
       "80271"
      ]
     },
     "execution_count": 3,
     "metadata": {},
     "output_type": "execute_result"
    }
   ],
   "source": [
    "baseGas =  api_to.get_base_gas()\n",
    "gas = tokens_info_to['transferOverhead'] + baseGas\n",
    "gas"
   ]
  },
  {
   "cell_type": "code",
   "execution_count": 3,
   "id": "d0657c60",
   "metadata": {},
   "outputs": [
    {
     "name": "stdout",
     "output_type": "stream",
     "text": [
      "max_fee % 0.005\n",
      "equilibrium_fee % 0.00075\n",
      "lpFee 4.5e-21\n",
      "0.0045\n"
     ]
    }
   ],
   "source": [
    "BASE_DIVISOR = 10000000000\n",
    "print(\"max_fee %\",max_fee/BASE_DIVISOR)\n",
    "print(\"equilibrium_fee %\",equilibrium_fee/BASE_DIVISOR)\n",
    "transfer_fee =  0.00000000000450000000\n",
    "if transfer_fee > equilibrium_fee:\n",
    "    lpFee = (amount * equilibrium_fee) / BASE_DIVISOR;\n",
    "else:\n",
    "    lpFee = (amount * transfer_fee) / BASE_DIVISOR;\n",
    "print(\"lpFee\",lpFee/1e18)\n",
    "transferFeeAmount = (amount * transfer_fee) / BASE_DIVISOR\n",
    "print(transferFeeAmount)"
   ]
  },
  {
   "cell_type": "code",
   "execution_count": 7,
   "id": "87e5c43f",
   "metadata": {},
   "outputs": [
    {
     "name": "stdout",
     "output_type": "stream",
     "text": [
      "reward 0.005306194326204278\n",
      "transfer_fee 22196979.23174984380602836609\n",
      "amount_received -22196969.22658006\n"
     ]
    }
   ],
   "source": [
    "amount = 10*1e18\n",
    "max_fee=tokens_info['maxFee']\n",
    "equilibrium_fee=tokens_info['equilibriumFee']\n",
    "gas_fee=0.000136411375259000\n",
    "reward = compute_received_reward(amount, incentive_pool, liquidity, equilibrium_liquidity)\n",
    "# compute the transfer fee\n",
    "transfer_fee = compute_transfer_fee(amount, liquidity, equilibrium_liquidity, max_fee, equilibrium_fee,\n",
    "                                    excess_state_transfer_fee, depth=2)\n",
    "print(\"reward\", reward)\n",
    "print(\"transfer_fee\", '{:.20f}'.format(transfer_fee))\n",
    "# compute the amount received on the toChain\n",
    "amount_received = compute_amount_received(amount / 1e18 + reward, transfer_fee, gas_fee)\n",
    "print(\"amount_received\", amount_received)\n",
    "# compute what you would get by bridging back to the fromChain using native bridges or others\n",
    "bridged_back_amount = compute_bridged_back_amount(amount_received)"
   ]
  },
  {
   "cell_type": "code",
   "execution_count": 4,
   "id": "42c8e806",
   "metadata": {},
   "outputs": [
    {
     "name": "stdout",
     "output_type": "stream",
     "text": [
      "0.0045\n"
     ]
    },
    {
     "data": {
      "text/plain": [
       "0.004231624125096013"
      ]
     },
     "execution_count": 4,
     "metadata": {},
     "output_type": "execute_result"
    }
   ],
   "source": [
    "print(0.004500000000000000)\n",
    "max_fee=0.1\n",
    "equilibrium_fee=0.001\n",
    "depth=2\n",
    "compute_transfer_fee(10*1e18, liquidity, equilibrium_liquidity, max_fee, equilibrium_fee, depth)"
   ]
  },
  {
   "cell_type": "code",
   "execution_count": null,
   "id": "4e79148e",
   "metadata": {},
   "outputs": [],
   "source": [
    "https://hyphen-v2-api.biconomy.io/api/v1/data/transferFee?fromChainId=1&toChainId=56&amount=10000000000000000000&tokenAddress=0xEeeeeEeeeEeEeeEeEeEeeEEEeeeeEeeeeeeeEEeE"
   ]
  },
  {
   "cell_type": "code",
   "execution_count": 122,
   "id": "bd18ac5e",
   "metadata": {},
   "outputs": [
    {
     "data": {
      "text/plain": [
       "1000000000000000000"
      ]
     },
     "execution_count": 122,
     "metadata": {},
     "output_type": "execute_result"
    }
   ],
   "source": [
    "int(1e18)"
   ]
  },
  {
   "cell_type": "code",
   "execution_count": 119,
   "id": "d9164ead",
   "metadata": {},
   "outputs": [
    {
     "data": {
      "text/plain": [
       "10.0"
      ]
     },
     "execution_count": 119,
     "metadata": {},
     "output_type": "execute_result"
    }
   ],
   "source": [
    "get_wallet_balance_eth()/1e18"
   ]
  },
  {
   "cell_type": "code",
   "execution_count": 117,
   "id": "8328a137",
   "metadata": {},
   "outputs": [
    {
     "data": {
      "image/png": "[encoded data removed]",
      "text/plain": [
       "<Figure size 1080x432 with 4 Axes>"
      ]
     },
     "metadata": {},
     "output_type": "display_data"
    }
   ],
   "source": [
    "from src.read import *\n",
    "from src.arbitrage import *\n",
    "liquidity_pools = read_liquidity_pools()\n",
    "supported_assets = read_supported_assets()\n",
    "rpcs = get_rpcs(liquidity_pools)\n",
    "max_profit = -1\n",
    "amount_in = 0.0\n",
    "best_opportunity_blockchain = ''\n",
    "best_opportunity_asset = ''\n",
    "assets = supported_assets['Asset'].tolist()\n",
    "asset_prices = get_prices(assets)\n",
    "wallet_balance_eth = get_wallet_balance_eth()\n",
    "wallet_balance_usdc = wallet_balance_eth * asset_prices[\"USDC\"]\n",
    "\n",
    "fig, axs = plt.subplots(4,1, figsize=(15, 6), facecolor='w', edgecolor='k')\n",
    "#fig.subplots_adjust(hspace = .5, wspace=.001)\n",
    "axs = axs.ravel()\n",
    "\n",
    "for blockchain in list(rpcs.keys())[:2]:\n",
    "    api = rpcs[blockchain]\n",
    "    for i, supported_assets_row in supported_assets.iterrows():\n",
    "        asset = supported_assets_row['Address']\n",
    "        asset_symbol = supported_assets_row['Asset']\n",
    "        asset_price = asset_prices[asset_symbol]\n",
    "        equilibrium_liquidity = api.get_equilibrium_liquidity(asset)\n",
    "        liquidity = api.get_current_liquidity(asset)\n",
    "        incentive_pool = api.get_rewards(asset)\n",
    "        axs[i].bar(['Current L','L Provided'],[liquidity,equilibrium_liquidity])\n",
    "        axs[i].text(x='Current L', y=liquidity/2,            s=int(liquidity/1e18),horizontalalignment='center',verticalalignment='center')\n",
    "        axs[i].text(x='L Provided',y=equilibrium_liquidity/2,s=int(equilibrium_liquidity/1e18),horizontalalignment='center',verticalalignment='center')\n",
    "        axs[i].set_title(blockchain+\" - \"+asset_symbol)\n",
    "        "
   ]
  },
  {
   "cell_type": "markdown",
   "id": "06f8f983",
   "metadata": {},
   "source": [
    "### TESTS"
   ]
  },
  {
   "cell_type": "code",
   "execution_count": 70,
   "id": "cd66f522",
   "metadata": {},
   "outputs": [],
   "source": [
    "import json\n",
    "from pathlib import Path\n",
    "\n",
    "from web3 import Web3\n",
    "\n",
    "from src.constants import PATH_TO_PASSWORDS, PATH_TO_DATA\n",
    "key = Path(PATH_TO_PASSWORDS + 'POKT_KEY.txt').read_text().replace('\\n', '')\n",
    "pk1 = Path(PATH_TO_PASSWORDS + 'pk1.txt').read_text().replace('\\n', '')\n",
    "blockchain_gateway = 'eth-goerli'\n",
    "url = 'https://eth-rinkeby.gateway.pokt.network/v1/lb/62b2cdf2123e6f00397e943e'\n",
    "w3 = Web3(Web3.HTTPProvider(url))"
   ]
  },
  {
   "cell_type": "code",
   "execution_count": 80,
   "id": "5d8ef346",
   "metadata": {},
   "outputs": [],
   "source": [
    "def send_tx(address_from, pk_from, address_to, amount):\n",
    "    account_from = {\n",
    "        \"private_key\": pk_from,\n",
    "        \"address\": address_from,\n",
    "    }\n",
    "\n",
    "    w3.eth.set_gas_price_strategy(rpc_gas_price_strategy)\n",
    "    tx_create = w3.eth.account.sign_transaction(\n",
    "        {\n",
    "            \"nonce\": w3.eth.get_transaction_count(account_from[\"address\"]),\n",
    "            \"gasPrice\": 150000000000,\n",
    "            \"gas\": 3000000,\n",
    "            \"to\": address_to,\n",
    "            \"value\": amount,\n",
    "            'chainId': w3.eth.chain_id,\n",
    "        },\n",
    "        account_from[\"private_key\"],\n",
    "    )\n",
    "\n",
    "    # 6. Send tx and wait for receipt\n",
    "    tx_hash = w3.eth.send_raw_transaction(tx_create.rawTransaction)\n",
    "    tx_receipt = w3.eth.wait_for_transaction_receipt(tx_hash)\n",
    "\n",
    "    print(f\"Transaction successful with hash: { tx_receipt.transactionHash.hex() }\")"
   ]
  },
  {
   "cell_type": "code",
   "execution_count": 76,
   "id": "fd71de53",
   "metadata": {},
   "outputs": [
    {
     "data": {
      "text/plain": [
       "2.5e+17"
      ]
     },
     "execution_count": 76,
     "metadata": {},
     "output_type": "execute_result"
    }
   ],
   "source": [
    "address_from = '0xc5324030Ad7e485fD7f42DBDEb1611C3BfE97569'\n",
    "address_to = '0x4dD079d0A3B9B862D77421558c7c4E13f3a9cBc0'\n",
    "amount = w3.eth.get_balance(address_from)/2\n",
    "amount"
   ]
  },
  {
   "cell_type": "code",
   "execution_count": 77,
   "id": "6d33d3a6",
   "metadata": {},
   "outputs": [
    {
     "name": "stdout",
     "output_type": "stream",
     "text": [
      "Transaction successful with hash: 0x6ad4e5c9c0b60d232d0f68620f074e3f84b816f6f5f01af9fff72ac20672d789\n"
     ]
    }
   ],
   "source": [
    "send_tx(address_from, pk1, address_to, 20)"
   ]
  },
  {
   "cell_type": "code",
   "execution_count": null,
   "id": "a441d233",
   "metadata": {},
   "outputs": [],
   "source": [
    "anyswap_address = '0x273a4fFcEb31B8473D51051Ad2a2EdbB7Ac8Ce02'\n"
   ]
  }
 ],
 "metadata": {
  "kernelspec": {
   "display_name": "Python 3 (ipykernel)",
   "language": "python",
   "name": "python3"
  },
  "language_info": {
   "codemirror_mode": {
    "name": "ipython",
    "version": 3
   },
   "file_extension": ".py",
   "mimetype": "text/x-python",
   "name": "python",
   "nbconvert_exporter": "python",
   "pygments_lexer": "ipython3",
   "version": "3.9.7"
  }
 },
 "nbformat": 4,
 "nbformat_minor": 5
}
